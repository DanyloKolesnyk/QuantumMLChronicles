{
 "cells": [
  {
   "cell_type": "markdown",
   "metadata": {},
   "source": [
    "<a name=\"Imports-and-Logging-Configuration\"></a>1. Imports and Logging Configuration\n",
    "First, import all necessary libraries and configure the logging mechanism to monitor the training process."
   ]
  },
  {
   "cell_type": "code",
   "execution_count": 20,
   "metadata": {},
   "outputs": [],
   "source": [
    "# Imports\n",
    "from sklearn.preprocessing import MinMaxScaler\n",
    "from sklearn.datasets import fetch_openml\n",
    "from sklearn.model_selection import train_test_split\n",
    "from sklearn.metrics import accuracy_score, classification_report, confusion_matrix\n",
    "from sklearn.utils import shuffle\n",
    "import numpy as np\n",
    "import matplotlib.pyplot as plt\n",
    "from math import sqrt, floor\n",
    "from skimage.transform import resize\n",
    "import seaborn as sns\n",
    "import logging\n",
    "import time\n",
    "\n",
    "# Qiskit Imports\n",
    "from qiskit import QuantumCircuit, QuantumRegister\n",
    "from qiskit.circuit import Parameter, ParameterVector\n",
    "from qiskit.primitives import Sampler\n",
    "from qiskit_algorithms.optimizers import COBYLA, SPSA \n",
    "from qiskit_machine_learning.algorithms import VQC\n",
    "from qiskit.circuit.library import TwoLocal\n",
    "\n",
    "# Logging Configuration\n",
    "logging.basicConfig(\n",
    "    level=logging.INFO,\n",
    "    format='%(asctime)s - %(levelname)s - %(message)s',\n",
    "    handlers=[\n",
    "        logging.StreamHandler(),  # Output to console\n",
    "        logging.FileHandler('vqc_training.log', mode='w')  # Output to file\n",
    "    ]\n",
    ")\n",
    "\n",
    "# Create a logger instance\n",
    "logger = logging.getLogger('VQC_Training')\n"
   ]
  },
  {
   "cell_type": "markdown",
   "metadata": {},
   "source": [
    "<a name=\"Utility-Functions\"></a>2. Utility Functions\n",
    "Define utility functions that assist in data preprocessing and visualization."
   ]
  },
  {
   "cell_type": "code",
   "execution_count": 21,
   "metadata": {},
   "outputs": [],
   "source": [
    "def largest_perfect_square(num_qubits):\n",
    "    \"\"\"Finds the largest perfect square less than or equal to num_qubits.\"\"\"\n",
    "    sqrt_val = floor(sqrt(num_qubits))\n",
    "    return sqrt_val ** 2\n",
    "\n",
    "\n",
    "def downscale_image(image, num_qubits):\n",
    "    \"\"\"\n",
    "    Downscale the image to fit the number of qubits using block averaging.\n",
    "    \n",
    "    Parameters:\n",
    "    - image (array): Flattened image array.\n",
    "    - num_qubits (int): Number of qubits.\n",
    "    \n",
    "    Returns:\n",
    "    - downscaled_image (array): Flattened downscaled image.\n",
    "    - valid_qubits (int): Adjusted number of qubits.\n",
    "    \"\"\"\n",
    "    original_size = 28  # MNIST images are 28x28\n",
    "\n",
    "    # Find the largest perfect square less than or equal to num_qubits\n",
    "    valid_qubits = largest_perfect_square(num_qubits)\n",
    "\n",
    "    # Determine the new size for downscaling\n",
    "    new_size = int(sqrt(valid_qubits))\n",
    "    if new_size == 0:\n",
    "        raise ValueError(\"Number of qubits is too small to downscale the image.\")\n",
    "\n",
    "    # Reshape the image to 2D\n",
    "    try:\n",
    "        image_2d = image.reshape(original_size, original_size)\n",
    "    except ValueError as e:\n",
    "        raise ValueError(f\"Error reshaping image: {e}\")\n",
    "\n",
    "    # Calculate the factor by which to downscale\n",
    "    factor = original_size // new_size\n",
    "    if original_size % new_size != 0:\n",
    "        # To handle cases where original_size is not perfectly divisible by new_size\n",
    "        factor += 1\n",
    "\n",
    "    # Initialize the downscaled image\n",
    "    downscaled_image = np.zeros((new_size, new_size))\n",
    "\n",
    "    # Perform block averaging\n",
    "    for i in range(new_size):\n",
    "        for j in range(new_size):\n",
    "            # Define the boundaries of the current block\n",
    "            start_i = i * factor\n",
    "            end_i = start_i + factor\n",
    "            start_j = j * factor\n",
    "            end_j = start_j + factor\n",
    "\n",
    "            # Extract the block and compute the average\n",
    "            block = image_2d[start_i:end_i, start_j:end_j]\n",
    "            downscaled_image[i, j] = block.mean()\n",
    "\n",
    "    return downscaled_image.flatten(), valid_qubits\n",
    "\n",
    "\n",
    "\n",
    "def display_comparisons(X_scaled, X_downscaled, y_subset, num_images, new_size):\n",
    "    \"\"\"\n",
    "    Display original and downscaled images side by side.\n",
    "\n",
    "    Parameters:\n",
    "    - X_scaled (array): Original scaled images.\n",
    "    - X_downscaled (array): Downscaled images.\n",
    "    - y_subset (array): Labels.\n",
    "    - num_images (int): Number of images to display.\n",
    "    - new_size (int): Size of downscaled images.\n",
    "    \"\"\"\n",
    "    for i in range(num_images):\n",
    "        fig, axes = plt.subplots(1, 2, figsize=(8, 4))\n",
    "        \n",
    "        # Show original image\n",
    "        axes[0].imshow(X_scaled[i].reshape(28, 28), cmap='gray')\n",
    "        axes[0].set_title(f\"Original Image (28x28)\\nLabel: {y_subset[i]}\")\n",
    "        axes[0].axis('off')\n",
    "        \n",
    "        # Show downscaled image\n",
    "        axes[1].imshow(X_downscaled[i].reshape(new_size, new_size), cmap='gray')\n",
    "        axes[1].set_title(f\"Downscaled Image ({new_size}x{new_size})\\nLabel: {y_subset[i]}\")\n",
    "        axes[1].axis('off')\n",
    "        \n",
    "        plt.tight_layout()\n",
    "        plt.show()\n",
    "\n"
   ]
  },
  {
   "cell_type": "markdown",
   "metadata": {},
   "source": [
    "<a name=\"Callback-Logger-Class\"></a>5. Callback Logger Class\n",
    "Define a callback class to log the optimizer's progress during training."
   ]
  },
  {
   "cell_type": "code",
   "execution_count": 22,
   "metadata": {},
   "outputs": [],
   "source": [
    "class CallbackLogger:\n",
    "    def __init__(self, logger):\n",
    "        self.logger = logger\n",
    "        self.iteration = 0\n",
    "        self.param_history = []\n",
    "        self.fval_history = []\n",
    "        self.stepsize_history = []\n",
    "    \n",
    "    def __call__(self, *args, **kwargs):\n",
    "        \"\"\"\n",
    "        Callback function to log optimizer progress.\n",
    "\n",
    "        Parameters:\n",
    "        - *args: Variable length argument list.\n",
    "        - **kwargs: Arbitrary keyword arguments.\n",
    "        \"\"\"\n",
    "        self.iteration += 1\n",
    "\n",
    "        # Attempt to extract known parameters from args or kwargs\n",
    "        # Adjust this based on the actual arguments passed by the optimizer\n",
    "        if len(args) >= 1:\n",
    "            xk = args[0]\n",
    "            self.param_history.append(xk)\n",
    "            self.logger.info(f\"Iteration {self.iteration}: Parameters: {xk}\")\n",
    "        \n",
    "        if len(args) >= 2:\n",
    "            fval = args[1]\n",
    "            self.fval_history.append(fval)\n",
    "            self.logger.info(f\"Iteration {self.iteration}: Function value: {fval}\")\n",
    "        \n",
    "        if len(args) >= 3:\n",
    "            stepsize = args[2]\n",
    "            self.stepsize_history.append(stepsize)\n",
    "            self.logger.info(f\"Iteration {self.iteration}: Step size: {stepsize}\")\n",
    "        \n",
    "        # Handle any additional keyword arguments\n",
    "        if kwargs:\n",
    "            self.logger.info(f\"Iteration {self.iteration}: Additional info: {kwargs}\")\n"
   ]
  },
  {
   "cell_type": "markdown",
   "metadata": {},
   "source": [
    "<a name=\"Quantum-Circuit-Definitions\"></a>6. Quantum Circuit Definitions\n",
    "Define quantum circuits for feature encoding and the parameterized ansatz."
   ]
  },
  {
   "cell_type": "code",
   "execution_count": 23,
   "metadata": {},
   "outputs": [],
   "source": [
    "def parameterized_scaled_angle_encoding(num_qubits, scale_factor=np.pi):\n",
    "    \"\"\"\n",
    "    Parameterized Angle Encoding with Feature Scaling.\n",
    "\n",
    "    Parameters:\n",
    "    - num_qubits (int): Number of qubits in the circuit.\n",
    "    - scale_factor (float): Scaling factor to adjust rotation angles.\n",
    "\n",
    "    Returns:\n",
    "    - QuantumCircuit: Parameterized quantum circuit implementing scaled angle encoding.\n",
    "    \"\"\"\n",
    "    qr = QuantumRegister(num_qubits, name='q')\n",
    "    circuit = QuantumCircuit(qr)\n",
    "    data_parameters = ParameterVector('x', num_qubits)\n",
    "    for i in range(num_qubits):\n",
    "        angle = data_parameters[i] * scale_factor\n",
    "        circuit.ry(angle, qr[i])\n",
    "    return circuit\n",
    "\n",
    "\n",
    "def parameterized_ansatz(num_qubits, parameters):\n",
    "    \"\"\"\n",
    "    Parameterized Ansatz.\n",
    "\n",
    "    Constructs a Parameterized Quantum Circuit (PQC) with RY and RZ gates and entangling CX gates.\n",
    "\n",
    "    Parameters:\n",
    "    - num_qubits (int): Number of qubits in the circuit.\n",
    "    - parameters (ParameterVector): List of parameters for rotation gates.\n",
    "\n",
    "    Returns:\n",
    "    - QuantumCircuit: Parameterized quantum circuit implementing the ansatz.\n",
    "    \"\"\"\n",
    "    qr = QuantumRegister(num_qubits, name='q')\n",
    "    circuit = QuantumCircuit(qr)\n",
    "    param_idx = 0\n",
    "    for i in range(num_qubits):\n",
    "        circuit.ry(parameters[param_idx], qr[i])\n",
    "        param_idx += 1\n",
    "        circuit.rz(parameters[param_idx], qr[i])\n",
    "        param_idx += 1\n",
    "    # Entangling layer\n",
    "    for i in range(num_qubits - 1):\n",
    "        circuit.cx(qr[i], qr[i + 1])\n",
    "    return circuit\n"
   ]
  },
  {
   "cell_type": "markdown",
   "metadata": {},
   "source": [
    "<a name=\"Data-Preprocessing\"></a>7. Data Preprocessing"
   ]
  },
  {
   "cell_type": "code",
   "execution_count": 24,
   "metadata": {},
   "outputs": [
    {
     "name": "stderr",
     "output_type": "stream",
     "text": [
      "2024-09-28 19:09:02,808 - INFO - Loading MNIST dataset...\n",
      "2024-09-28 19:09:11,175 - INFO - Subset size: 200 samples\n",
      "2024-09-28 19:09:11,176 - INFO - Scaling pixel values...\n",
      "2024-09-28 19:09:11,180 - INFO - Number of qubits set to 9\n",
      "2024-09-28 19:09:11,181 - INFO - Downscaling images to fit 9 qubits...\n",
      "2024-09-28 19:09:11,200 - INFO - Splitting dataset into training and testing sets...\n",
      "2024-09-28 19:09:11,203 - INFO - Training set size: 160 samples\n",
      "2024-09-28 19:09:11,204 - INFO - Testing set size: 40 samples\n",
      "2024-09-28 19:09:11,205 - INFO - Displaying class distribution in the subset...\n",
      "2024-09-28 19:09:11,226 - INFO - Using categorical units to plot a list of strings that are all parsable as floats or dates. If these strings should be plotted as numbers, cast to the appropriate data type before plotting.\n",
      "2024-09-28 19:09:11,236 - INFO - Using categorical units to plot a list of strings that are all parsable as floats or dates. If these strings should be plotted as numbers, cast to the appropriate data type before plotting.\n"
     ]
    },
    {
     "data": {
      "image/png": "[encoded data removed]",
      "text/plain": [
       "<Figure size 1000x600 with 1 Axes>"
      ]
     },
     "metadata": {},
     "output_type": "display_data"
    },
    {
     "name": "stderr",
     "output_type": "stream",
     "text": [
      "2024-09-28 19:09:11,446 - INFO - Displaying comparisons for the first 5 images...\n"
     ]
    },
    {
     "data": {
      "image/png": "[encoded data removed]",
      "text/plain": [
       "<Figure size 800x400 with 2 Axes>"
      ]
     },
     "metadata": {},
     "output_type": "display_data"
    },
    {
     "data": {
      "image/png": "[encoded data removed]",
      "text/plain": [
       "<Figure size 800x400 with 2 Axes>"
      ]
     },
     "metadata": {},
     "output_type": "display_data"
    },
    {
     "data": {
      "image/png": "[encoded data removed]",
      "text/plain": [
       "<Figure size 800x400 with 2 Axes>"
      ]
     },
     "metadata": {},
     "output_type": "display_data"
    },
    {
     "data": {
      "image/png": "[encoded data removed]",
      "text/plain": [
       "<Figure size 800x400 with 2 Axes>"
      ]
     },
     "metadata": {},
     "output_type": "display_data"
    },
    {
     "data": {
      "image/png": "[encoded data removed]",
      "text/plain": [
       "<Figure size 800x400 with 2 Axes>"
      ]
     },
     "metadata": {},
     "output_type": "display_data"
    }
   ],
   "source": [
    "# Data Preprocessing\n",
    "try:\n",
    "    # Load MNIST dataset\n",
    "    logger.info(\"Loading MNIST dataset...\")\n",
    "    mnist = fetch_openml('mnist_784', version=1, as_frame=False)\n",
    "    X = mnist.data\n",
    "    y = mnist.target.astype(int)\n",
    "    \n",
    "    # Shuffle the dataset to ensure a random distribution of classes\n",
    "    X, y = shuffle(X, y, random_state=42)\n",
    "    \n",
    "    # Subset the dataset for faster execution (e.g., 500 images)\n",
    "    subset_size = 200  # Adjust as needed\n",
    "    X_subset = X[:subset_size]\n",
    "    y_subset = y[:subset_size]\n",
    "    logger.info(f\"Subset size: {subset_size} samples\")\n",
    "    \n",
    "    # Normalize pixel values to [0, 1]\n",
    "    logger.info(\"Scaling pixel values...\")\n",
    "    scaler = MinMaxScaler()\n",
    "    X_scaled = scaler.fit_transform(X_subset)\n",
    "    \n",
    "    # Define the number of qubits\n",
    "    num_qubits = 9  # Adjust as needed\n",
    "    \n",
    "    # Check and warn only once if the number of qubits isn't a perfect square\n",
    "    valid_qubits = largest_perfect_square(num_qubits)\n",
    "    if valid_qubits != num_qubits:\n",
    "        logger.warning(f\"{num_qubits} qubits is not a perfect square. Using {valid_qubits} qubits instead.\")\n",
    "        num_qubits = valid_qubits\n",
    "    else:\n",
    "        logger.info(f\"Number of qubits set to {num_qubits}\")\n",
    "    \n",
    "    # Apply the enhanced downscale_image function to the dataset\n",
    "    logger.info(f\"Downscaling images to fit {num_qubits} qubits...\")\n",
    "    X_downscaled = np.array([downscale_image(img, num_qubits)[0] for img in X_scaled])\n",
    "    new_size = int(sqrt(valid_qubits))\n",
    "    \n",
    "    # Split the dataset into training and testing sets\n",
    "    logger.info(\"Splitting dataset into training and testing sets...\")\n",
    "    X_train, X_test, y_train, y_test = train_test_split(\n",
    "        X_downscaled, y_subset, test_size=0.2, random_state=42, stratify=y_subset\n",
    "    )\n",
    "    logger.info(f\"Training set size: {X_train.shape[0]} samples\")\n",
    "    logger.info(f\"Testing set size: {X_test.shape[0]} samples\")\n",
    "    \n",
    "    # Display the distribution of classes in the subset\n",
    "    logger.info(\"Displaying class distribution in the subset...\")\n",
    "    plt.figure(figsize=(10, 6))\n",
    "    sns.countplot(x=y_subset)\n",
    "    plt.title(\"Class Distribution in the Subset\")\n",
    "    plt.xlabel(\"Digit\")\n",
    "    plt.ylabel(\"Count\")\n",
    "    plt.show()\n",
    "    \n",
    "    # Display the comparisons for a few images\n",
    "    num_images_to_display = 5\n",
    "    logger.info(f\"Displaying comparisons for the first {num_images_to_display} images...\")\n",
    "    display_comparisons(X_scaled, X_downscaled, y_subset, num_images_to_display, new_size)\n",
    "    \n",
    "except Exception as e:\n",
    "    logger.critical(f\"An error occurred during data preprocessing: {e}\")\n"
   ]
  },
  {
   "cell_type": "markdown",
   "metadata": {},
   "source": [
    "<a name=\"Quantum-Machine-Learning-Setup\"></a>8. Quantum Machine Learning Setup"
   ]
  },
  {
   "cell_type": "markdown",
   "metadata": {},
   "source": [
    "a. Instantiate Callback Logger"
   ]
  },
  {
   "cell_type": "code",
   "execution_count": 25,
   "metadata": {},
   "outputs": [],
   "source": [
    "# Instantiate the callback logger\n",
    "callback_logger = CallbackLogger(logger)\n"
   ]
  },
  {
   "cell_type": "markdown",
   "metadata": {},
   "source": [
    "b. Define Feature Map and Ansatz"
   ]
  },
  {
   "cell_type": "code",
   "execution_count": 26,
   "metadata": {},
   "outputs": [
    {
     "name": "stderr",
     "output_type": "stream",
     "text": [
      "2024-09-28 19:09:18,500 - INFO - Feature map created using parameterized_scaled_angle_encoding\n",
      "2024-09-28 19:09:18,502 - INFO - Ansatz created using parameterized_ansatz\n"
     ]
    }
   ],
   "source": [
    "# Define the feature map and ansatz\n",
    "feature_map = parameterized_scaled_angle_encoding(num_qubits)\n",
    "logger.info(\"Feature map created using parameterized_scaled_angle_encoding\")\n",
    "\n",
    "ansatz_parameters = ParameterVector('θ', 2 * num_qubits)\n",
    "ansatz = parameterized_ansatz(num_qubits=num_qubits, parameters=ansatz_parameters)\n",
    "logger.info(\"Ansatz created using parameterized_ansatz\")\n"
   ]
  },
  {
   "cell_type": "markdown",
   "metadata": {},
   "source": [
    "c. Initialize Sampler"
   ]
  },
  {
   "cell_type": "code",
   "execution_count": 27,
   "metadata": {},
   "outputs": [
    {
     "name": "stderr",
     "output_type": "stream",
     "text": [
      "/var/folders/1t/dx5zswn17y58r7kqkt5gw0nm0000gn/T/ipykernel_13690/4191440393.py:2: DeprecationWarning: The class ``qiskit.primitives.sampler.Sampler`` is deprecated as of qiskit 1.2. It will be removed no earlier than 3 months after the release date. All implementations of the `BaseSamplerV1` interface have been deprecated in favor of their V2 counterparts. The V2 alternative for the `Sampler` class is `StatevectorSampler`.\n",
      "  sampler = Sampler()\n",
      "2024-09-28 19:09:20,417 - INFO - Sampler initialized\n"
     ]
    }
   ],
   "source": [
    "# Initialize the sampler\n",
    "sampler = Sampler()\n",
    "logger.info(\"Sampler initialized\")"
   ]
  },
  {
   "cell_type": "markdown",
   "metadata": {},
   "source": [
    "d. Initialize Optimizer with Callback"
   ]
  },
  {
   "cell_type": "code",
   "execution_count": 28,
   "metadata": {},
   "outputs": [
    {
     "name": "stderr",
     "output_type": "stream",
     "text": [
      "2024-09-28 19:09:21,689 - INFO - Optimizer initialized: COBYLA with maxiter=100 and tol=0.01\n"
     ]
    }
   ],
   "source": [
    "# Initialize the optimizer with the callback\n",
    "optimizer = COBYLA(maxiter=100, tol=0.01)  # You can change the optimizer here\n",
    "logger.info(\"Optimizer initialized: COBYLA with maxiter=100 and tol=0.01\")\n"
   ]
  },
  {
   "cell_type": "markdown",
   "metadata": {},
   "source": [
    "f. Define the VQC Model"
   ]
  },
  {
   "cell_type": "code",
   "execution_count": 29,
   "metadata": {},
   "outputs": [
    {
     "name": "stderr",
     "output_type": "stream",
     "text": [
      "2024-09-28 19:09:23,232 - INFO - VQC model initialized\n"
     ]
    }
   ],
   "source": [
    "# Define the VQC with feature map, ansatz, optimizer, and sampler\n",
    "vqc = VQC(\n",
    "    feature_map=feature_map,\n",
    "    ansatz=ansatz,\n",
    "    optimizer=optimizer,\n",
    "    sampler=sampler\n",
    ")\n",
    "logger.info(\"VQC model initialized\")\n"
   ]
  },
  {
   "cell_type": "markdown",
   "metadata": {},
   "source": [
    "<a name=\"Model-Training\"></a>9. Model Training"
   ]
  },
  {
   "cell_type": "code",
   "execution_count": 30,
   "metadata": {},
   "outputs": [
    {
     "name": "stderr",
     "output_type": "stream",
     "text": [
      "2024-09-28 19:09:25,146 - INFO - Data preprocessing completed.\n",
      "2024-09-28 19:09:25,148 - INFO - Training started\n",
      "2024-09-28 19:12:11,297 - INFO - Training completed\n",
      "2024-09-28 19:12:11,298 - INFO - Training duration: 166.15 seconds\n"
     ]
    }
   ],
   "source": [
    "# Convert training and testing data to NumPy arrays\n",
    "X_train_np = np.array(X_train)\n",
    "y_train_np = np.array(y_train).flatten()\n",
    "X_test_np = np.array(X_test)\n",
    "y_test_np = np.array(y_test).flatten()\n",
    "\n",
    "logger.info(\"Data preprocessing completed.\")\n",
    "\n",
    "# Track the start time\n",
    "start_time = time.time()\n",
    "logger.info(\"Training started\")\n",
    "\n",
    "try:\n",
    "    # Train the VQC\n",
    "    vqc.fit(X_train_np, y_train_np)\n",
    "    logger.info(\"Training completed\")\n",
    "except Exception as e:\n",
    "    logger.error(f\"An error occurred during training: {e}\")\n",
    "    vqc = None  # Ensure VQC is set to None if training fails\n",
    "\n",
    "# Track the end time\n",
    "end_time = time.time()\n",
    "duration = end_time - start_time\n",
    "logger.info(f\"Training duration: {duration:.2f} seconds\")\n"
   ]
  },
  {
   "cell_type": "code",
   "execution_count": 31,
   "metadata": {},
   "outputs": [
    {
     "name": "stderr",
     "output_type": "stream",
     "text": [
      "2024-09-28 19:12:14,738 - INFO - Prediction on test set completed\n",
      "2024-09-28 19:12:14,739 - INFO - Test Accuracy: 12.50%\n",
      "/Users/danielkolesnik/Desktop/Physics/TUM/2_Semester/Computational methods of many body physics/quantum_ml_env/lib/python3.10/site-packages/sklearn/metrics/_classification.py:1531: UndefinedMetricWarning: Precision is ill-defined and being set to 0.0 in labels with no predicted samples. Use `zero_division` parameter to control this behavior.\n",
      "  _warn_prf(average, modifier, f\"{metric.capitalize()} is\", len(result))\n",
      "/Users/danielkolesnik/Desktop/Physics/TUM/2_Semester/Computational methods of many body physics/quantum_ml_env/lib/python3.10/site-packages/sklearn/metrics/_classification.py:1531: UndefinedMetricWarning: Precision is ill-defined and being set to 0.0 in labels with no predicted samples. Use `zero_division` parameter to control this behavior.\n",
      "  _warn_prf(average, modifier, f\"{metric.capitalize()} is\", len(result))\n",
      "/Users/danielkolesnik/Desktop/Physics/TUM/2_Semester/Computational methods of many body physics/quantum_ml_env/lib/python3.10/site-packages/sklearn/metrics/_classification.py:1531: UndefinedMetricWarning: Precision is ill-defined and being set to 0.0 in labels with no predicted samples. Use `zero_division` parameter to control this behavior.\n",
      "  _warn_prf(average, modifier, f\"{metric.capitalize()} is\", len(result))\n",
      "2024-09-28 19:12:14,750 - INFO - Classification Report:\n",
      "              precision    recall  f1-score   support\n",
      "\n",
      "           0       0.00      0.00      0.00         4\n",
      "           1       0.00      0.00      0.00         5\n",
      "           2       0.00      0.00      0.00         3\n",
      "           3       0.20      0.40      0.27         5\n",
      "           4       0.00      0.00      0.00         3\n",
      "           5       0.00      0.00      0.00         4\n",
      "           6       0.00      0.00      0.00         4\n",
      "           7       0.00      0.00      0.00         4\n",
      "           8       0.38      0.75      0.50         4\n",
      "           9       0.00      0.00      0.00         4\n",
      "\n",
      "    accuracy                           0.12        40\n",
      "   macro avg       0.06      0.11      0.08        40\n",
      "weighted avg       0.06      0.12      0.08        40\n",
      "\n",
      "2024-09-28 19:12:14,751 - INFO - Confusion Matrix:\n",
      "[[0 1 0 0 0 0 1 0 1 1]\n",
      " [5 0 0 0 0 0 0 0 0 0]\n",
      " [0 2 0 1 0 0 0 0 0 0]\n",
      " [0 0 0 2 0 2 0 0 1 0]\n",
      " [1 0 0 1 0 0 0 0 0 1]\n",
      " [1 1 0 1 0 0 0 0 1 0]\n",
      " [1 1 0 2 0 0 0 0 0 0]\n",
      " [0 1 0 1 0 2 0 0 0 0]\n",
      " [0 0 0 1 0 0 0 0 3 0]\n",
      " [0 1 0 1 0 0 0 0 2 0]]\n",
      "2024-09-28 19:12:14,753 - INFO - Parameter history saved to parameter_history.txt\n",
      "2024-09-28 19:12:14,755 - INFO - Classification report saved to classification_report.txt\n",
      "2024-09-28 19:12:14,757 - INFO - Confusion matrix saved to confusion_matrix.csv\n"
     ]
    }
   ],
   "source": [
    "if vqc is not None:\n",
    "    try:\n",
    "        # Predict on the test set\n",
    "        y_pred = vqc.predict(X_test_np)\n",
    "        logger.info(\"Prediction on test set completed\")\n",
    "        \n",
    "        # Evaluate the model\n",
    "        accuracy = accuracy_score(y_test_np, y_pred)\n",
    "        logger.info(f\"Test Accuracy: {accuracy * 100:.2f}%\")\n",
    "        \n",
    "        # Additional Evaluation Metrics\n",
    "        classification_rep = classification_report(y_test_np, y_pred)\n",
    "        conf_matrix = confusion_matrix(y_test_np, y_pred)\n",
    "        \n",
    "        logger.info(f\"Classification Report:\\n{classification_rep}\")\n",
    "        logger.info(f\"Confusion Matrix:\\n{conf_matrix}\")\n",
    "        \n",
    "        # Save the parameter history to a file\n",
    "        with open('parameter_history.txt', 'w') as f:\n",
    "            for idx, params in enumerate(callback_logger.param_history, 1):\n",
    "                f.write(f\"Iteration {idx}: {params}\\n\")\n",
    "        logger.info(\"Parameter history saved to parameter_history.txt\")\n",
    "        \n",
    "        # Save additional metrics\n",
    "        with open('classification_report.txt', 'w') as f:\n",
    "            f.write(classification_rep)\n",
    "        logger.info(\"Classification report saved to classification_report.txt\")\n",
    "        \n",
    "        np.savetxt('confusion_matrix.csv', conf_matrix, delimiter=',', fmt='%d')\n",
    "        logger.info(\"Confusion matrix saved to confusion_matrix.csv\")\n",
    "        \n",
    "    except Exception as e:\n",
    "        logger.error(f\"An error occurred during prediction or evaluation: {e}\")\n",
    "else:\n",
    "    logger.error(\"VQC training failed. Skipping evaluation steps.\")\n"
   ]
  },
  {
   "cell_type": "code",
   "execution_count": null,
   "metadata": {},
   "outputs": [],
   "source": []
  }
 ],
 "metadata": {
  "kernelspec": {
   "display_name": "quantum_ml_env",
   "language": "python",
   "name": "python3"
  },
  "language_info": {
   "codemirror_mode": {
    "name": "ipython",
    "version": 3
   },
   "file_extension": ".py",
   "mimetype": "text/x-python",
   "name": "python",
   "nbconvert_exporter": "python",
   "pygments_lexer": "ipython3",
   "version": "3.10.2"
  }
 },
 "nbformat": 4,
 "nbformat_minor": 2
}
